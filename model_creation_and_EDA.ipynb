{
 "cells": [
  {
   "cell_type": "code",
   "execution_count": 2,
   "metadata": {},
   "outputs": [],
   "source": [
    "import gzip\n",
    "import random\n",
    "import pandas as pd\n",
    "import numpy as np\n",
    "import json\n",
    "import ast\n",
    "import nltk\n",
    "from nltk.corpus import stopwords\n",
    "from collections import defaultdict\n",
    "import string\n",
    "from sklearn.linear_model import LinearRegression\n",
    "from sklearn import linear_model\n",
    "import scipy\n",
    "# nltk.download('stopwords')"
   ]
  },
  {
   "cell_type": "code",
   "execution_count": 3,
   "metadata": {},
   "outputs": [],
   "source": [
    "def MSE(pred, label):\n",
    "    diff = [(x-y)**2 for (x,y) in zip(pred, label)]\n",
    "    return sum(diff) / len(diff)"
   ]
  },
  {
   "cell_type": "code",
   "execution_count": 4,
   "metadata": {},
   "outputs": [],
   "source": [
    "def feature(datum):\n",
    "    feat = [0]*len(words)\n",
    "    r = ''.join([c for c in datum['review_text'].lower() if not c in punctuation])\n",
    "    for w in r.split():\n",
    "        if w in words:\n",
    "            feat[wordId[w]] += 1\n",
    "    #feat.append(1) # offset\n",
    "    return feat"
   ]
  },
  {
   "cell_type": "code",
   "execution_count": 5,
   "metadata": {},
   "outputs": [],
   "source": [
    "# Read in the file\n",
    "with open('runwayJ.json', 'r') as file :\n",
    "    filedata = file.read()\n",
    "\n",
    "# Replace the target string\n",
    "filedata = filedata.replace('null', 'None')\n",
    "\n",
    "# Write the file out again\n",
    "with open('runwayJ.json', 'w') as file:\n",
    "    file.write(filedata)"
   ]
  },
  {
   "cell_type": "code",
   "execution_count": 6,
   "metadata": {},
   "outputs": [],
   "source": [
    "# Read in json\n",
    "path = \"runwayJ.json\"\n",
    "f = open(path)\n",
    "data = []\n",
    "\n",
    "for l in f:\n",
    "    d = eval(l) \n",
    "    if d['rating'] != None: #remove missing values\n",
    "        d['rating'] = int(d['rating']) #change rating to int\n",
    "        data.append(d)\n",
    "    \n",
    "f.close()"
   ]
  },
  {
   "cell_type": "code",
   "execution_count": 7,
   "metadata": {},
   "outputs": [
    {
     "data": {
      "text/plain": [
       "192462"
      ]
     },
     "execution_count": 83,
     "metadata": {},
     "output_type": "execute_result"
    }
   ],
   "source": [
    "len(data)"
   ]
  },
  {
   "cell_type": "code",
   "execution_count": 8,
   "metadata": {},
   "outputs": [],
   "source": [
    "split1 = int(len(data) * 0.7)\n",
    "split2 = int(len(data) * 0.9)"
   ]
  },
  {
   "cell_type": "code",
   "execution_count": 9,
   "metadata": {},
   "outputs": [],
   "source": [
    "train = data[:split1]\n",
    "validation = data[split1:split2]\n",
    "test = data[split2:]"
   ]
  },
  {
   "cell_type": "markdown",
   "metadata": {},
   "source": [
    "## Bag of Words Ridge model"
   ]
  },
  {
   "cell_type": "code",
   "execution_count": 10,
   "metadata": {},
   "outputs": [],
   "source": [
    "#Potential bag of words features without stopwords\n",
    "\n",
    "stopwords_set = set(stopwords.words('english'))\n",
    "\n",
    "wordCount = defaultdict(int)\n",
    "punctuation = set(string.punctuation)\n",
    "for d in train:\n",
    "    r = ''.join([c for c in d['review_text'].lower() if not c in punctuation])\n",
    "    for w in r.split():\n",
    "        if w not in stopwords_set:\n",
    "            wordCount[w] += 1\n"
   ]
  },
  {
   "cell_type": "code",
   "execution_count": 11,
   "metadata": {},
   "outputs": [],
   "source": [
    "counts = [(wordCount[w], w) for w in wordCount]\n",
    "counts.sort()\n",
    "counts.reverse()\n",
    "words = [x[1] for x in counts[:1000]]"
   ]
  },
  {
   "cell_type": "code",
   "execution_count": 12,
   "metadata": {},
   "outputs": [],
   "source": [
    "wordId = dict(zip(words, range(len(words))))\n",
    "wordSet = set(words)\n",
    "\n",
    "X_train = scipy.sparse.lil_matrix((len(train), 1000))\n",
    "for i in range(len(train)):\n",
    "    X_train[i] = feature(train[i])\n",
    "y_train = [d['rating'] for d in train]\n",
    "\n",
    "X_val = scipy.sparse.lil_matrix((len(validation), 1000))\n",
    "for i in range(len(validation)):\n",
    "    X_val[i] = feature(validation[i])\n",
    "y_val = [d['rating'] for d in validation]\n",
    "\n",
    "X_test = scipy.sparse.lil_matrix((len(test), 1000))\n",
    "for i in range(len(test)):\n",
    "    X_test[i] = feature(test[i])\n",
    "y_test = [d['rating'] for d in test]"
   ]
  },
  {
   "cell_type": "code",
   "execution_count": 13,
   "metadata": {},
   "outputs": [],
   "source": [
    "mod = linear_model.Ridge(1) # dont need fit_intercept=False bc we didnt manually add offset term\n",
    "mod.fit(X_train, y_train)\n",
    "theta = mod.coef_\n",
    "val_predictions = mod.predict(X_val)"
   ]
  },
  {
   "cell_type": "code",
   "execution_count": 14,
   "metadata": {
    "scrolled": true
   },
   "outputs": [
    {
     "data": {
      "text/plain": [
       "1.5341931059640286"
      ]
     },
     "execution_count": 14,
     "metadata": {},
     "output_type": "execute_result"
    }
   ],
   "source": [
    "MSE(val_predictions, y_val)"
   ]
  },
  {
   "cell_type": "code",
   "execution_count": 15,
   "metadata": {},
   "outputs": [
    {
     "data": {
      "text/plain": [
       "1.5344694924363182"
      ]
     },
     "execution_count": 15,
     "metadata": {},
     "output_type": "execute_result"
    }
   ],
   "source": [
    "MSE(mod.predict(X_test), y_test)"
   ]
  },
  {
   "cell_type": "code",
   "execution_count": 16,
   "metadata": {},
   "outputs": [
    {
     "data": {
      "text/plain": [
       "[(-1.166716807445799, 'unflattering'),\n",
       " (-0.7516728266352667, 'unfortunately'),\n",
       " (-0.7290066099768828, 'odd'),\n",
       " (-0.726165148455739, 'disappointed'),\n",
       " (-0.6736008081354841, 'excited'),\n",
       " (-0.6628003307065135, 'awkward'),\n",
       " (-0.6432149794255907, 'returned'),\n",
       " (-0.6273594578643606, 'stars'),\n",
       " (-0.6241380910338162, 'boxy'),\n",
       " (-0.45037026419326237, 'constantly'),\n",
       " (-0.4185535604388244, 'baggy'),\n",
       " (-0.3988835520543935, 'huge'),\n",
       " (-0.3844938130112188, 'weird'),\n",
       " (-0.35469539736215067, 'least'),\n",
       " (-0.339164183210792, 'ok'),\n",
       " (-0.337104801817933, 'end'),\n",
       " (-0.33093514273237895, 'hung'),\n",
       " (-0.3187476482926431, 'except'),\n",
       " (-0.28928201081896776, 'okay'),\n",
       " (-0.28652957288656317, 'unless')]"
      ]
     },
     "execution_count": 75,
     "metadata": {},
     "output_type": "execute_result"
    }
   ],
   "source": [
    "wordSort = list(zip(theta[:-1], words))\n",
    "wordSort.sort()\n",
    "wordSort[:20]"
   ]
  },
  {
   "cell_type": "code",
   "execution_count": null,
   "metadata": {},
   "outputs": [],
   "source": []
  },
  {
   "cell_type": "code",
   "execution_count": null,
   "metadata": {},
   "outputs": [],
   "source": []
  },
  {
   "cell_type": "markdown",
   "metadata": {},
   "source": [
    "## fastFM latent factor model - won't run on datahub"
   ]
  },
  {
   "cell_type": "code",
   "execution_count": 17,
   "metadata": {},
   "outputs": [],
   "source": [
    "from fastFM import als\n",
    "# populate utility dictionaries\n",
    "userIDs = {}\n",
    "itemIDs = {}\n",
    "interactions = []\n",
    "interactionsPerUser = defaultdict(list)\n",
    "\n",
    "for d in data:\n",
    "    u = d['user_id']\n",
    "    i = d['item_id']\n",
    "    if u not in userIDs: userIDs[u] = len(userIDs)\n",
    "    if i not in itemIDs: itemIDs[i] = len(itemIDs)\n",
    "\n",
    "nUser, nItem = len(userIDs), len(itemIDs)"
   ]
  },
  {
   "cell_type": "code",
   "execution_count": null,
   "metadata": {},
   "outputs": [],
   "source": [
    "X_train = scipy.sparse.lil_matrix((len(train), nUser + nItem))\n",
    "for r in range(len(train)):\n",
    "    u, i = userIDs[train[r]['user_id']], itemIDs[train[r]['item_id']]\n",
    "    X_train[r, u] = 1\n",
    "    X_train[r, nUser + i] = 1\n",
    "\n",
    "X_val = scipy.sparse.lil_matrix((len(validation), nUser + nItem))\n",
    "for r in range(len(validation)):\n",
    "    u, i = userIDs[validation[r]['user_id']], itemIDs[validation[r]['item_id']]\n",
    "    X_val[r, u] = 1\n",
    "    X_val[r, nUser + i] = 1\n",
    "    \n",
    "X_test = scipy.sparse.lil_matrix((len(test), nUser + nItem))\n",
    "for r in range(len(test)):\n",
    "    u, i = userIDs[test[r]['user_id']], itemIDs[test[r]['item_id']]\n",
    "    X_test[r, u] = 1\n",
    "    X_test[r, nUser + i] = 1\n",
    "    \n",
    "y_train = [d['rating'] for d in train]\n",
    "y_val = [d['rating'] for d in validation]\n",
    "y_test = [d['rating'] for d in test]"
   ]
  },
  {
   "cell_type": "code",
   "execution_count": null,
   "metadata": {},
   "outputs": [],
   "source": [
    "fm = als.FMRegression(n_iter=1000, init_stdev=0.1, rank=5, l2_reg_w=0.1, l2_reg_V=0.5)\n",
    "\n",
    "fm.fit(X_train, y_train)\n",
    "val_pred = fm.predict(X_val)\n",
    "test_pred = fm.predict(X_test)\n",
    "valMSE = MSE(val_pred, y_val)\n",
    "testMSE = MSE(test_pred, y_test)"
   ]
  },
  {
   "cell_type": "code",
   "execution_count": null,
   "metadata": {},
   "outputs": [
    {
     "data": {
      "image/png": "[encoded data removed]",
      "text/plain": [
       "<IPython.core.display.Image object>"
      ]
     },
     "execution_count": 100,
     "metadata": {
      "image/png": {
       "height": 500,
       "width": 800
      }
     },
     "output_type": "execute_result"
    }
   ],
   "source": [
    "from IPython.display import Image\n",
    "from IPython.core.display import HTML \n",
    "PATH = \"fastFM.png\"\n",
    "Image(filename = PATH, width=800, height=500)"
   ]
  },
  {
   "cell_type": "markdown",
   "metadata": {},
   "source": [
    "## Dataset Exploration"
   ]
  },
  {
   "cell_type": "code",
   "execution_count": 86,
   "metadata": {},
   "outputs": [],
   "source": [
    "ratings = [i['rating'] for i in data]"
   ]
  },
  {
   "cell_type": "code",
   "execution_count": 87,
   "metadata": {},
   "outputs": [
    {
     "name": "stdout",
     "output_type": "stream",
     "text": [
      "9.092371481123546 1.4300404687885462\n"
     ]
    }
   ],
   "source": [
    "print(np.mean(ratings), np.std(ratings))"
   ]
  },
  {
   "cell_type": "code",
   "execution_count": 72,
   "metadata": {},
   "outputs": [],
   "source": [
    "tester = pd.DataFrame(data)"
   ]
  },
  {
   "cell_type": "code",
   "execution_count": 85,
   "metadata": {},
   "outputs": [
    {
     "data": {
      "text/plain": [
       "2017    67871\n",
       "2016    51361\n",
       "2015    30596\n",
       "2014    28269\n",
       "2013     9617\n",
       "2012     3302\n",
       "2018     1255\n",
       "2011      190\n",
       "2010        1\n",
       "Name: review_date, dtype: int64"
      ]
     },
     "execution_count": 85,
     "metadata": {},
     "output_type": "execute_result"
    }
   ],
   "source": [
    "def year(date):\n",
    "    return date[-4:]\n",
    "tester['review_date'].apply(year).value_counts()"
   ]
  },
  {
   "cell_type": "code",
   "execution_count": 88,
   "metadata": {},
   "outputs": [
    {
     "data": {
      "text/html": [
       "<div>\n",
       "<style scoped>\n",
       "    .dataframe tbody tr th:only-of-type {\n",
       "        vertical-align: middle;\n",
       "    }\n",
       "\n",
       "    .dataframe tbody tr th {\n",
       "        vertical-align: top;\n",
       "    }\n",
       "\n",
       "    .dataframe thead th {\n",
       "        text-align: right;\n",
       "    }\n",
       "</style>\n",
       "<table border=\"1\" class=\"dataframe\">\n",
       "  <thead>\n",
       "    <tr style=\"text-align: right;\">\n",
       "      <th></th>\n",
       "      <th>rating</th>\n",
       "      <th>size</th>\n",
       "    </tr>\n",
       "  </thead>\n",
       "  <tbody>\n",
       "    <tr>\n",
       "      <td>count</td>\n",
       "      <td>192462.000000</td>\n",
       "      <td>192462.000000</td>\n",
       "    </tr>\n",
       "    <tr>\n",
       "      <td>mean</td>\n",
       "      <td>9.092371</td>\n",
       "      <td>12.245254</td>\n",
       "    </tr>\n",
       "    <tr>\n",
       "      <td>std</td>\n",
       "      <td>1.430044</td>\n",
       "      <td>8.495463</td>\n",
       "    </tr>\n",
       "    <tr>\n",
       "      <td>min</td>\n",
       "      <td>2.000000</td>\n",
       "      <td>0.000000</td>\n",
       "    </tr>\n",
       "    <tr>\n",
       "      <td>25%</td>\n",
       "      <td>8.000000</td>\n",
       "      <td>8.000000</td>\n",
       "    </tr>\n",
       "    <tr>\n",
       "      <td>50%</td>\n",
       "      <td>10.000000</td>\n",
       "      <td>12.000000</td>\n",
       "    </tr>\n",
       "    <tr>\n",
       "      <td>75%</td>\n",
       "      <td>10.000000</td>\n",
       "      <td>16.000000</td>\n",
       "    </tr>\n",
       "    <tr>\n",
       "      <td>max</td>\n",
       "      <td>10.000000</td>\n",
       "      <td>58.000000</td>\n",
       "    </tr>\n",
       "  </tbody>\n",
       "</table>\n",
       "</div>"
      ],
      "text/plain": [
       "              rating           size\n",
       "count  192462.000000  192462.000000\n",
       "mean        9.092371      12.245254\n",
       "std         1.430044       8.495463\n",
       "min         2.000000       0.000000\n",
       "25%         8.000000       8.000000\n",
       "50%        10.000000      12.000000\n",
       "75%        10.000000      16.000000\n",
       "max        10.000000      58.000000"
      ]
     },
     "execution_count": 88,
     "metadata": {},
     "output_type": "execute_result"
    }
   ],
   "source": [
    "tester.describe() #describe table"
   ]
  },
  {
   "cell_type": "code",
   "execution_count": 91,
   "metadata": {},
   "outputs": [
    {
     "data": {
      "text/plain": [
       "fit                   0\n",
       "user_id               0\n",
       "bust size         18397\n",
       "item_id               0\n",
       "weight            29957\n",
       "rating                0\n",
       "rented for           10\n",
       "review_text           0\n",
       "body type         14637\n",
       "review_summary        0\n",
       "category              0\n",
       "height              677\n",
       "size                  0\n",
       "age                 959\n",
       "review_date           0\n",
       "dtype: int64"
      ]
     },
     "execution_count": 91,
     "metadata": {},
     "output_type": "execute_result"
    }
   ],
   "source": [
    "tester.isna().apply(sum, axis = 0) #Missingness summary"
   ]
  },
  {
   "cell_type": "code",
   "execution_count": 104,
   "metadata": {},
   "outputs": [
    {
     "data": {
      "text/plain": [
       "wedding            57768\n",
       "formal affair      40365\n",
       "party              35613\n",
       "everyday           16822\n",
       "other              15381\n",
       "work               15042\n",
       "date                7387\n",
       "vacation            4073\n",
       "party: cocktail        1\n",
       "Name: rented for, dtype: int64"
      ]
     },
     "execution_count": 104,
     "metadata": {},
     "output_type": "execute_result"
    }
   ],
   "source": [
    "tester['rented for'].value_counts() #rented reasons table"
   ]
  },
  {
   "cell_type": "code",
   "execution_count": null,
   "metadata": {},
   "outputs": [],
   "source": []
  }
 ],
 "metadata": {
  "interpreter": {
   "hash": "3137675c7f24985e71c0ea3c9681aa30efeebccf7d3a93341ca05e71cea70feb"
  },
  "kernelspec": {
   "display_name": "Python 3",
   "language": "python",
   "name": "python3"
  },
  "language_info": {
   "codemirror_mode": {
    "name": "ipython",
    "version": 3
   },
   "file_extension": ".py",
   "mimetype": "text/x-python",
   "name": "python",
   "nbconvert_exporter": "python",
   "pygments_lexer": "ipython3",
   "version": "3.7.4"
  }
 },
 "nbformat": 4,
 "nbformat_minor": 2
}
